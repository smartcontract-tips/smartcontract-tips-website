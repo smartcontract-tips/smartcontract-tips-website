{
 "cells": [
  {
   "cell_type": "code",
   "execution_count": null,
   "metadata": {},
   "outputs": [],
   "source": [
    "!pip install pillow"
   ]
  },
  {
   "cell_type": "code",
   "execution_count": 74,
   "metadata": {},
   "outputs": [],
   "source": [
    "import os\n",
    "import glob\n",
    "from PIL import Image\n",
    "\n",
    "def resize_image(input_path, output_path, scale):\n",
    "    \"\"\"Ridimensiona un'immagine al dato scale e la salva.\"\"\"\n",
    "    try:\n",
    "        with Image.open(input_path) as img:\n",
    "            new_size = (int(img.width * scale), int(img.height * scale))\n",
    "            resized_img = img.resize(new_size, Image.LANCZOS)\n",
    "            resized_img.save(output_path)\n",
    "    except(IOError, ValueError) as e:\n",
    "        print(f\"ERR_ errore con file {input_path} -- {e}\")\n"
   ]
  },
  {
   "cell_type": "code",
   "execution_count": 75,
   "metadata": {},
   "outputs": [],
   "source": [
    "def process_images(directory):\n",
    "    \"\"\"Trova e ridimensiona solo i file cover.png, cover.jpg, cover.jpeg nella directory e nelle sottocartelle.\"\"\"\n",
    "    valid_filenames = {\"cover.png\", \"cover.jpg\", \"cover.jpeg\", \"cover.webp\"}\n",
    "    \n",
    "    for root, _, files in os.walk(directory):\n",
    "        for file_name in files:\n",
    "            if file_name.lower() in valid_filenames:\n",
    "                file_path = os.path.join(root, file_name)\n",
    "                name, ext = os.path.splitext(file_name)\n",
    "                \n",
    "                # Percorso del nuovo file\n",
    "                output_preview = os.path.join(root, f\"{file_name}_preview.png\")\n",
    "                \n",
    "                # Ridimensionamento\n",
    "                resize_image(file_path, output_preview, 0.3)\n",
    "                print(f\"Processato: {file_path} -> {output_preview}\")\n",
    "\n",
    "\n"
   ]
  },
  {
   "cell_type": "code",
   "execution_count": 77,
   "metadata": {},
   "outputs": [
    {
     "name": "stdout",
     "output_type": "stream",
     "text": [
      "Processato: ./pics/posts/2024-09-15-profanity/cover.png -> ./pics/posts/2024-09-15-profanity/cover.png_preview.png\n",
      "Processato: ./pics/posts/2024-08-10-consigli/cover.png -> ./pics/posts/2024-08-10-consigli/cover.png_preview.png\n",
      "Processato: ./pics/posts/2024-12-15-infinite-approval-token-pericoli-sicurezza/cover.webp -> ./pics/posts/2024-12-15-infinite-approval-token-pericoli-sicurezza/cover.webp_preview.png\n",
      "Processato: ./pics/posts/2024-11-11-updated-guide-to-erc4337-migrating-to-infinitism/cover.png -> ./pics/posts/2024-11-11-updated-guide-to-erc4337-migrating-to-infinitism/cover.png_preview.png\n",
      "Processato: ./pics/posts/2024-08-29-opensea-si-sco/cover.png -> ./pics/posts/2024-08-29-opensea-si-sco/cover.png_preview.png\n",
      "Processato: ./pics/posts/2025-01-08-web3-security-2024-in-retrospective/cover.jpeg -> ./pics/posts/2025-01-08-web3-security-2024-in-retrospective/cover.jpeg_preview.png\n",
      "Processato: ./pics/posts/2024-09-08-railgun-blocca/cover.png -> ./pics/posts/2024-09-08-railgun-blocca/cover.png_preview.png\n",
      "Processato: ./pics/posts/2024-12-20-Leveraging-Pyth-Oracle-for-Decentralized-Applications/cover.png -> ./pics/posts/2024-12-20-Leveraging-Pyth-Oracle-for-Decentralized-Applications/cover.png_preview.png\n",
      "Processato: ./pics/posts/sandwich-attack/cover.png -> ./pics/posts/sandwich-attack/cover.png_preview.png\n",
      "Processato: ./pics/posts/2024-09-29-la-notarizzazione-su-blockchain-garanzia-di-sicurezza-e-valore-legale/cover.jpeg -> ./pics/posts/2024-09-29-la-notarizzazione-su-blockchain-garanzia-di-sicurezza-e-valore-legale/cover.jpeg_preview.png\n",
      "Processato: ./pics/posts/2024-10-26-ecosistema-dellidentit-digitale-in-europa-normativa-e-progetti-pilota/cover.png -> ./pics/posts/2024-10-26-ecosistema-dellidentit-digitale-in-europa-normativa-e-progetti-pilota/cover.png_preview.png\n",
      "Processato: ./pics/posts/ton-network/cover.png -> ./pics/posts/ton-network/cover.png_preview.png\n",
      "Processato: ./pics/posts/stages/cover.png -> ./pics/posts/stages/cover.png_preview.png\n",
      "Processato: ./pics/posts/2024-10-30-trader-cinese-accusato-di-riciclare-criptovalute-per-il-lazarus-group/cover.png -> ./pics/posts/2024-10-30-trader-cinese-accusato-di-riciclare-criptovalute-per-il-lazarus-group/cover.png_preview.png\n",
      "Processato: ./pics/posts/2024-10-07-implementazione-e-vantaggi-del-portafoglio-digitale-dellue/cover.png -> ./pics/posts/2024-10-07-implementazione-e-vantaggi-del-portafoglio-digitale-dellue/cover.png_preview.png\n",
      "Processato: ./pics/posts/2024-10-22-violazione-della-sicurezza-di-radiant-capital-attacco-sofisticato-da-50/cover.png -> ./pics/posts/2024-10-22-violazione-della-sicurezza-di-radiant-capital-attacco-sofisticato-da-50/cover.png_preview.png\n",
      "Processato: ./pics/posts/2024-09-06-proposta-opcat/cover.png -> ./pics/posts/2024-09-06-proposta-opcat/cover.png_preview.png\n",
      "Processato: ./pics/posts/2024-09-21-ntt-rivela-lim/cover.webp -> ./pics/posts/2024-09-21-ntt-rivela-lim/cover.webp_preview.png\n",
      "ERR_ errore con file ./pics/posts/2024-09-21-ntt-rivela-lim/cover.png -- cannot identify image file './pics/posts/2024-09-21-ntt-rivela-lim/cover.png'\n",
      "Processato: ./pics/posts/2024-09-21-ntt-rivela-lim/cover.png -> ./pics/posts/2024-09-21-ntt-rivela-lim/cover.png_preview.png\n",
      "Processato: ./pics/posts/2024-08-31-emergenze-e-vu/cover.png -> ./pics/posts/2024-08-31-emergenze-e-vu/cover.png_preview.png\n",
      "Processato: ./pics/posts/millionaire-problem/cover.webp -> ./pics/posts/millionaire-problem/cover.webp_preview.png\n",
      "Processato: ./pics/posts/2024-11-12-campagna-bluenoroff-hidden-risk-phishing-e-malware-su-macos/cover.png -> ./pics/posts/2024-11-12-campagna-bluenoroff-hidden-risk-phishing-e-malware-su-macos/cover.png_preview.png\n",
      "Processato: ./pics/posts/2024-08-28-il-furto-milio/cover.png -> ./pics/posts/2024-08-28-il-furto-milio/cover.png_preview.png\n",
      "Processato: ./pics/posts/2024-10-09-lattacco-di-hacker-cinesi-ai-sistemi-di-sorveglianza-mette-a/cover.jpg -> ./pics/posts/2024-10-09-lattacco-di-hacker-cinesi-ai-sistemi-di-sorveglianza-mette-a/cover.jpg_preview.png\n",
      "Processato: ./pics/posts/2024-09-28-sky-makerdao-riconsidera-wbtc/cover.png -> ./pics/posts/2024-09-28-sky-makerdao-riconsidera-wbtc/cover.png_preview.png\n",
      "Processato: ./pics/posts/2024-12-27-Implementing-DAO-Governance-with-Governor-Contracts/cover.png -> ./pics/posts/2024-12-27-Implementing-DAO-Governance-with-Governor-Contracts/cover.png_preview.png\n",
      "Processato: ./pics/posts/stop-blaming-the-open-source/cover.png -> ./pics/posts/stop-blaming-the-open-source/cover.png_preview.png\n",
      "Processato: ./pics/posts/2024-11-08-polymarket-opportunita-controversie-prevede-vittoria-trump/cover.jpeg -> ./pics/posts/2024-11-08-polymarket-opportunita-controversie-prevede-vittoria-trump/cover.jpeg_preview.png\n",
      "Processato: ./pics/posts/2025-01-24-eudi-wallet-has-some-design-flaws-expert-says/cover.png -> ./pics/posts/2025-01-24-eudi-wallet-has-some-design-flaws-expert-says/cover.png_preview.png\n",
      "Processato: ./pics/posts/2024-10-01-collaborazione-tra-polygon-labs-e-fabric-per-nuove-verifiable-processing/cover.png -> ./pics/posts/2024-10-01-collaborazione-tra-polygon-labs-e-fabric-per-nuove-verifiable-processing/cover.png_preview.png\n",
      "Processato: ./pics/posts/2024-09-04-cambio-di-cust/cover.png -> ./pics/posts/2024-09-04-cambio-di-cust/cover.png_preview.png\n",
      "Processato: ./pics/posts/2024-09-08-prepararsi-per/cover.png -> ./pics/posts/2024-09-08-prepararsi-per/cover.png_preview.png\n",
      "Processato: ./pics/posts/2024-11-27-corte-dappello-usa-annulla-sanzioni-contro-tornado-cash/cover.png -> ./pics/posts/2024-11-27-corte-dappello-usa-annulla-sanzioni-contro-tornado-cash/cover.png_preview.png\n",
      "Processato: ./pics/posts/2024-09-15-nuova-vulnerab/cover.png -> ./pics/posts/2024-09-15-nuova-vulnerab/cover.png_preview.png\n",
      "Processato: ./pics/posts/2024-09-22-remote-ransomware/cover.webp -> ./pics/posts/2024-09-22-remote-ransomware/cover.webp_preview.png\n",
      "ERR_ errore con file ./pics/posts/2024-09-22-remote-ransomware/cover.png -- cannot identify image file './pics/posts/2024-09-22-remote-ransomware/cover.png'\n",
      "Processato: ./pics/posts/2024-09-22-remote-ransomware/cover.png -> ./pics/posts/2024-09-22-remote-ransomware/cover.png_preview.png\n",
      "Processato: ./pics/posts/2024-08-15-aggiornamento-matic/cover.png -> ./pics/posts/2024-08-15-aggiornamento-matic/cover.png_preview.png\n",
      "Processato: ./pics/posts/2024-08-31-web3-gli-hack-/cover.png -> ./pics/posts/2024-08-31-web3-gli-hack-/cover.png_preview.png\n",
      "Processato: ./pics/posts/2024-08-10-eidas-20/cover.png -> ./pics/posts/2024-08-10-eidas-20/cover.png_preview.png\n",
      "Processato: ./pics/posts/2024-09-17-passkey-la-nuo/cover.png -> ./pics/posts/2024-09-17-passkey-la-nuo/cover.png_preview.png\n",
      "Tutte le immagini sono state ridimensionate con successo!\n"
     ]
    }
   ],
   "source": [
    "if __name__ == \"__main__\":\n",
    "    folder_path = './pics/posts'\n",
    "    if os.path.exists(folder_path):\n",
    "        process_images(folder_path)\n",
    "        print(\"Tutte le immagini sono state ridimensionate con successo!\")\n",
    "    else:\n",
    "        print(\"Percorso non valido. Riprova.\")"
   ]
  },
  {
   "cell_type": "code",
   "execution_count": null,
   "metadata": {},
   "outputs": [],
   "source": [
    "!pip install python-frontmatter"
   ]
  },
  {
   "cell_type": "code",
   "execution_count": 60,
   "metadata": {},
   "outputs": [],
   "source": [
    "import os\n",
    "import frontmatter\n",
    "\n",
    "\n",
    "DIRECTORY = \"./content/_it/posts\"\n",
    "PICS_DIRECTORY = \"pics/posts\"\n"
   ]
  },
  {
   "cell_type": "code",
   "execution_count": 71,
   "metadata": {},
   "outputs": [
    {
     "name": "stdout",
     "output_type": "stream",
     "text": [
      "root ./content/_it/posts\n",
      "processing 2024-08-09-nexera-sfruttato-attacco-da-18m-token-nxra-crolla-40.markdown\n",
      "file_path ./content/_it/posts/2024-08-09-nexera-sfruttato-attacco-da-18m-token-nxra-crolla-40.markdown\n",
      "processing 2024-09-15-profanity.markdown\n",
      "file_path ./content/_it/posts/2024-09-15-profanity.markdown\n",
      "image_path ./pics/posts/2024-09-15-profanity/cover.png\n",
      "Renamed ./pics/posts/2024-09-15-profanity/cover.png to ./content/_it/posts/cover.png\n",
      "Adjusted frontmatter with cover.png\n"
     ]
    },
    {
     "ename": "TypeError",
     "evalue": "write() argument must be str, not bytes",
     "output_type": "error",
     "traceback": [
      "\u001b[0;31m---------------------------------------------------------------------------\u001b[0m",
      "\u001b[0;31mTypeError\u001b[0m                                 Traceback (most recent call last)",
      "Cell \u001b[0;32mIn[71], line 25\u001b[0m\n\u001b[1;32m     22\u001b[0m                             \u001b[38;5;28;01mwith\u001b[39;00m \u001b[38;5;28mopen\u001b[39m(file_path, \u001b[38;5;124m'\u001b[39m\u001b[38;5;124mw\u001b[39m\u001b[38;5;124m'\u001b[39m, encoding\u001b[38;5;241m=\u001b[39m\u001b[38;5;124m'\u001b[39m\u001b[38;5;124mutf-8\u001b[39m\u001b[38;5;124m'\u001b[39m) \u001b[38;5;28;01mas\u001b[39;00m f:\n\u001b[1;32m     23\u001b[0m                                 frontmatter\u001b[38;5;241m.\u001b[39mdump(post, f)\n\u001b[0;32m---> 25\u001b[0m \u001b[43madjust_covers\u001b[49m\u001b[43m(\u001b[49m\u001b[43mDIRECTORY\u001b[49m\u001b[43m)\u001b[49m\n",
      "Cell \u001b[0;32mIn[71], line 23\u001b[0m, in \u001b[0;36madjust_covers\u001b[0;34m(directory)\u001b[0m\n\u001b[1;32m     21\u001b[0m \u001b[38;5;28mprint\u001b[39m(\u001b[38;5;124mf\u001b[39m\u001b[38;5;124m\"\u001b[39m\u001b[38;5;124mAdjusted frontmatter with \u001b[39m\u001b[38;5;132;01m{\u001b[39;00mpost[\u001b[38;5;124m'\u001b[39m\u001b[38;5;124mimage\u001b[39m\u001b[38;5;124m'\u001b[39m]\u001b[38;5;132;01m}\u001b[39;00m\u001b[38;5;124m\"\u001b[39m)\n\u001b[1;32m     22\u001b[0m \u001b[38;5;28;01mwith\u001b[39;00m \u001b[38;5;28mopen\u001b[39m(file_path, \u001b[38;5;124m'\u001b[39m\u001b[38;5;124mw\u001b[39m\u001b[38;5;124m'\u001b[39m, encoding\u001b[38;5;241m=\u001b[39m\u001b[38;5;124m'\u001b[39m\u001b[38;5;124mutf-8\u001b[39m\u001b[38;5;124m'\u001b[39m) \u001b[38;5;28;01mas\u001b[39;00m f:\n\u001b[0;32m---> 23\u001b[0m     \u001b[43mfrontmatter\u001b[49m\u001b[38;5;241;43m.\u001b[39;49m\u001b[43mdump\u001b[49m\u001b[43m(\u001b[49m\u001b[43mpost\u001b[49m\u001b[43m,\u001b[49m\u001b[43m \u001b[49m\u001b[43mf\u001b[49m\u001b[43m)\u001b[49m\n",
      "File \u001b[0;32m~/Documents/code/jekyllsites/sct/smartcontract-tips-website/.venv/lib/python3.12/site-packages/frontmatter/__init__.py:235\u001b[0m, in \u001b[0;36mdump\u001b[0;34m(post, fd, encoding, handler, **kwargs)\u001b[0m\n\u001b[1;32m    233\u001b[0m content \u001b[38;5;241m=\u001b[39m dumps(post, handler, \u001b[38;5;241m*\u001b[39m\u001b[38;5;241m*\u001b[39mkwargs)\n\u001b[1;32m    234\u001b[0m \u001b[38;5;28;01mif\u001b[39;00m \u001b[38;5;28mhasattr\u001b[39m(fd, \u001b[38;5;124m\"\u001b[39m\u001b[38;5;124mwrite\u001b[39m\u001b[38;5;124m\"\u001b[39m):\n\u001b[0;32m--> 235\u001b[0m     \u001b[43mfd\u001b[49m\u001b[38;5;241;43m.\u001b[39;49m\u001b[43mwrite\u001b[49m\u001b[43m(\u001b[49m\u001b[43mcontent\u001b[49m\u001b[38;5;241;43m.\u001b[39;49m\u001b[43mencode\u001b[49m\u001b[43m(\u001b[49m\u001b[43mencoding\u001b[49m\u001b[43m)\u001b[49m\u001b[43m)\u001b[49m\n\u001b[1;32m    237\u001b[0m \u001b[38;5;28;01melse\u001b[39;00m:\n\u001b[1;32m    238\u001b[0m     \u001b[38;5;28;01mwith\u001b[39;00m codecs\u001b[38;5;241m.\u001b[39mopen(fd, \u001b[38;5;124m\"\u001b[39m\u001b[38;5;124mw\u001b[39m\u001b[38;5;124m\"\u001b[39m, encoding) \u001b[38;5;28;01mas\u001b[39;00m f:\n",
      "\u001b[0;31mTypeError\u001b[0m: write() argument must be str, not bytes"
     ]
    }
   ],
   "source": [
    "\n",
    "# for all the markdown files in the directory and subdirectories check the frontmatter for the post.image field, then rename the post.image file as cover.jpg or cover.png and adjust the frontmatter accordingly\n",
    "def adjust_covers(directory):\n",
    "    for root, _, files in os.walk(directory):\n",
    "        print(\"root\", root)\n",
    "        for file in files:\n",
    "            print(\"processing\", file)\n",
    "            if file.endswith(\".markdown\"):\n",
    "                file_path = os.path.join(root, file)\n",
    "                print(\"file_path\", file_path)\n",
    "                with open(file_path, 'r', encoding='utf-8') as f:\n",
    "                    post = frontmatter.load(f)\n",
    "                    if 'image' in post:\n",
    "                        image_path = '.'+post['image']\n",
    "                        print(\"image_path\", image_path)\n",
    "                        if os.path.exists(image_path):\n",
    "                            new_image_name = \"cover\" + os.path.splitext(image_path)[1]\n",
    "                            new_image_path = os.path.join(root, new_image_name)\n",
    "                            os.rename(image_path, new_image_path)\n",
    "                            print(f\"Renamed {image_path} to {new_image_path}\")\n",
    "                            post['image'] = new_image_name\n",
    "                            print(f\"Adjusted frontmatter with {post['image']}\")\n",
    "                            with open(file_path, 'w', encoding='utf-8') as f:\n",
    "                                frontmatter.dump(post, f)\n",
    "\n",
    "adjust_covers(DIRECTORY)"
   ]
  }
 ],
 "metadata": {
  "kernelspec": {
   "display_name": ".venv",
   "language": "python",
   "name": "python3"
  },
  "language_info": {
   "codemirror_mode": {
    "name": "ipython",
    "version": 3
   },
   "file_extension": ".py",
   "mimetype": "text/x-python",
   "name": "python",
   "nbconvert_exporter": "python",
   "pygments_lexer": "ipython3",
   "version": "3.12.8"
  }
 },
 "nbformat": 4,
 "nbformat_minor": 2
}
