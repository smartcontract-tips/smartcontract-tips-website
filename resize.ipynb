{
 "cells": [
  {
   "cell_type": "code",
   "execution_count": 3,
   "metadata": {},
   "outputs": [
    {
     "name": "stdout",
     "output_type": "stream",
     "text": [
      "Collecting pillow\n",
      "  Using cached pillow-11.1.0-cp312-cp312-macosx_11_0_arm64.whl.metadata (9.1 kB)\n",
      "Using cached pillow-11.1.0-cp312-cp312-macosx_11_0_arm64.whl (3.1 MB)\n",
      "Installing collected packages: pillow\n",
      "Successfully installed pillow-11.1.0\n"
     ]
    }
   ],
   "source": [
    "!pip install pillow"
   ]
  },
  {
   "cell_type": "code",
   "execution_count": 34,
   "metadata": {},
   "outputs": [],
   "source": [
    "import os\n",
    "import glob\n",
    "from PIL import Image\n",
    "\n",
    "def resize_image(input_path, output_path, scale):\n",
    "    \"\"\"Ridimensiona un'immagine al dato scale e la salva.\"\"\"\n",
    "    try:\n",
    "        with Image.open(input_path) as img:\n",
    "            new_size = (int(img.width * scale), int(img.height * scale))\n",
    "            resized_img = img.resize(new_size, Image.LANCZOS)\n",
    "            resized_img.save(output_path)\n",
    "    except(IOError, ValueError) as e:\n",
    "        print(f\"ERR_ errore con file {input_path} -- {e}\")\n"
   ]
  },
  {
   "cell_type": "code",
   "execution_count": 44,
   "metadata": {},
   "outputs": [],
   "source": [
    "def process_images(directory):\n",
    "    \"\"\"Trova e ridimensiona solo i file cover.png, cover.jpg, cover.jpeg nella directory e nelle sottocartelle.\"\"\"\n",
    "    valid_filenames = {\"cover.png\", \"cover.jpg\", \"cover.jpeg\"}\n",
    "    \n",
    "    for root, _, files in os.walk(directory):\n",
    "        for file_name in files:\n",
    "            if file_name.lower() in valid_filenames:\n",
    "                file_path = os.path.join(root, file_name)\n",
    "                name, ext = os.path.splitext(file_name)\n",
    "                \n",
    "                # Percorso del nuovo file\n",
    "                output_preview = os.path.join(root, f\"{file_name}_preview.png\")\n",
    "                \n",
    "                # Ridimensionamento\n",
    "                resize_image(file_path, output_preview, 0.3)\n",
    "                print(f\"Processato: {file_path} -> {output_preview}\")\n",
    "\n",
    "\n"
   ]
  },
  {
   "cell_type": "code",
   "execution_count": null,
   "metadata": {},
   "outputs": [
    {
     "name": "stdout",
     "output_type": "stream",
     "text": [
      "Processato: ./pics/test/cover.jpeg -> ./pics/test/cover.jpeg_preview.png\n",
      "Tutte le immagini sono state ridimensionate con successo!\n"
     ]
    }
   ],
   "source": [
    "if __name__ == \"__main__\":\n",
    "    folder_path = './pics/posts'\n",
    "    if os.path.exists(folder_path):\n",
    "        process_images(folder_path)\n",
    "        print(\"Tutte le immagini sono state ridimensionate con successo!\")\n",
    "    else:\n",
    "        print(\"Percorso non valido. Riprova.\")"
   ]
  }
 ],
 "metadata": {
  "kernelspec": {
   "display_name": ".venv",
   "language": "python",
   "name": "python3"
  },
  "language_info": {
   "codemirror_mode": {
    "name": "ipython",
    "version": 3
   },
   "file_extension": ".py",
   "mimetype": "text/x-python",
   "name": "python",
   "nbconvert_exporter": "python",
   "pygments_lexer": "ipython3",
   "version": "3.12.8"
  }
 },
 "nbformat": 4,
 "nbformat_minor": 2
}
